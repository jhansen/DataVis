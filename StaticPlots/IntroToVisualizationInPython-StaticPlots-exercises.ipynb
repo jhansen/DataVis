{
 "cells": [
  {
   "cell_type": "code",
   "execution_count": null,
   "metadata": {},
   "outputs": [],
   "source": []
  },
  {
   "cell_type": "markdown",
   "metadata": {},
   "source": [
    "#### Exercise ####\n"
   ]
  },
  {
   "cell_type": "markdown",
   "metadata": {},
   "source": [
    "#### Please refer to module 1 of Intro to visualization in python - Static Plots for Tasks 1-13\n",
    "#### Task 1\n",
    "##### Import the required packages.\n",
    "##### Set `data_dir` and `plot_dir` to the path of the data/plot directory.\n",
    "##### Print `data_dir` and `plot_dir`.\n"
   ]
  },
  {
   "cell_type": "code",
   "execution_count": null,
   "metadata": {},
   "outputs": [],
   "source": []
  },
  {
   "cell_type": "markdown",
   "metadata": {},
   "source": [
    "#### Task 2\n",
    "##### Read in our dataset called `heart.csv`. Save it as `ex_data`.\n",
    "##### Print the head of `ex_data`.\n",
    "##### Subset the data to have numeric and categorical columns\n",
    "##### Impute the data with mean\n",
    "##### Convert the non-numeric categorical columns to numeric\n",
    "#### Result:\n"
   ]
  },
  {
   "cell_type": "code",
   "execution_count": null,
   "metadata": {},
   "outputs": [],
   "source": []
  },
  {
   "cell_type": "markdown",
   "metadata": {},
   "source": [
    "#### Task 3\n",
    "##### Group `ex_data` data by the `'FastingBS'` variable. Save as `ex_grouped`.\n",
    "##### Then group and summarize all the variables by `'FastingBS'` using their means. Save as `ex_grouped_mean` and print.\n",
    "##### Reset its index and print the result.\n",
    "#### Result:\n"
   ]
  },
  {
   "cell_type": "code",
   "execution_count": null,
   "metadata": {},
   "outputs": [],
   "source": []
  },
  {
   "cell_type": "markdown",
   "metadata": {},
   "source": [
    "#### Task 4\n",
    "##### Notice the format of `ex_grouped_mean`. We wish to convert it from wide to long format.\n",
    "##### Use the `pd.melt()` function and convert it to long format. Save as `ex_grouped_mean_long` and print the result.\n",
    "#### Result:\n"
   ]
  },
  {
   "cell_type": "code",
   "execution_count": null,
   "metadata": {},
   "outputs": [],
   "source": []
  },
  {
   "cell_type": "markdown",
   "metadata": {},
   "source": [
    "#### Task 5\n",
    "##### Now use the `pd.pivot()` function to convert `ex_grouped_mean_long` to wide format.\n",
    "##### Save as `ex_grouped_mean_wide` and print.\n",
    "#### Result:\n"
   ]
  },
  {
   "cell_type": "code",
   "execution_count": null,
   "metadata": {},
   "outputs": [],
   "source": []
  },
  {
   "cell_type": "markdown",
   "metadata": {},
   "source": [
    "#### Task 6\n",
    "##### Use the `plt.hist()` function to create a simple histogram of `'Oldpeak'`.\n",
    "#### Result:\n"
   ]
  },
  {
   "cell_type": "code",
   "execution_count": null,
   "metadata": {},
   "outputs": [],
   "source": []
  },
  {
   "cell_type": "markdown",
   "metadata": {},
   "source": [
    "#### Task 7\n",
    "##### Now run the same code as above and set the number of bins as 25. \n",
    "##### Name the x-axis and the y-axis as `percent_house_below_poverty` and `Frequency` respectively. \n",
    "##### Also include the title `Percent House below Poverty Distribution`.\n",
    "#### Result:\n"
   ]
  },
  {
   "cell_type": "code",
   "execution_count": null,
   "metadata": {},
   "outputs": [],
   "source": []
  },
  {
   "cell_type": "markdown",
   "metadata": {},
   "source": [
    "#### Task 8\n",
    "##### Create a simple boxplot of `'Oldpeak'` and show the results.\n",
    "#### Result:\n"
   ]
  },
  {
   "cell_type": "code",
   "execution_count": null,
   "metadata": {},
   "outputs": [],
   "source": []
  },
  {
   "cell_type": "markdown",
   "metadata": {},
   "source": [
    "#### Task 9\n",
    "##### Now try to create the same boxplot by changing its orientation to horizontal.\n",
    "##### Also label the x-axis and title accordingly.\n",
    "#### Result:\n"
   ]
  },
  {
   "cell_type": "code",
   "execution_count": null,
   "metadata": {},
   "outputs": [],
   "source": []
  },
  {
   "cell_type": "markdown",
   "metadata": {},
   "source": [
    "#### Task 10\n",
    "##### Now let's create a barplot using the long data `ex_grouped_mean_long`.\n",
    "##### To do that, first filter `'FastingBS'` by a category and then create two columns in the dataframe: `metrics` and `means`.\n",
    "##### Save as `ex_true_means` and print.\n",
    "#### Result:\n"
   ]
  },
  {
   "cell_type": "code",
   "execution_count": null,
   "metadata": {},
   "outputs": [],
   "source": []
  },
  {
   "cell_type": "markdown",
   "metadata": {},
   "source": [
    "#### Task 11\n",
    "##### Create the following variables needed to construct a bar plot:\n"
   ]
  },
  {
   "cell_type": "markdown",
   "metadata": {},
   "source": [
    "- `ex_bar_labels` with the `metric`\n",
    "- `ex_bar_heights` with the `mean`\n",
    "- `num_bars` having the length of `ex_bar_heights`\n",
    "- `ex_bar_positions` having the range of `ex_num_bars`\n"
   ]
  },
  {
   "cell_type": "markdown",
   "metadata": {},
   "source": [
    "#### Result:\n"
   ]
  },
  {
   "cell_type": "code",
   "execution_count": null,
   "metadata": {},
   "outputs": [],
   "source": []
  },
  {
   "cell_type": "markdown",
   "metadata": {},
   "source": [
    "#### Task 12\n",
    "##### Create a basic bar chart with the variables above. \n",
    "##### Label the title and y-axis accordingly. \n",
    "##### Add the title \"Exercise Means\".\n",
    "#####  Rotate the labels to a vertical position ( set `rotation`= 90 ) to make them easier to read.\n",
    "#### Result:\n"
   ]
  },
  {
   "cell_type": "code",
   "execution_count": null,
   "metadata": {},
   "outputs": [],
   "source": []
  },
  {
   "cell_type": "markdown",
   "metadata": {},
   "source": [
    "#### Task 13\n",
    "##### Plot the above bar chart, this time by adjusting the size of the figure.\n",
    "##### Use the `plt.figsize()` to set the width as `20` and the height as `15`.\n",
    "#### Result:\n"
   ]
  },
  {
   "cell_type": "code",
   "execution_count": null,
   "metadata": {},
   "outputs": [],
   "source": []
  },
  {
   "cell_type": "markdown",
   "metadata": {},
   "source": [
    "#### Please refer to module 2 of Intro to visualization in python - Static Plots for Tasks 14-18\n",
    "#### Task 14\n",
    "##### Create a simple scatterplot with `'Oldpeak'` on the x-axis and `'Oldpeak'` on the y-axis.\n",
    "#### Result:\n"
   ]
  },
  {
   "cell_type": "code",
   "execution_count": null,
   "metadata": {},
   "outputs": [],
   "source": []
  },
  {
   "cell_type": "markdown",
   "metadata": {},
   "source": [
    "#### Task 15\n",
    "##### Plot the above scatterplot and name the axes and title accordingly.\n",
    "##### Set the marker to `X` and view the plot.\n",
    "#### Result:\n"
   ]
  },
  {
   "cell_type": "code",
   "execution_count": null,
   "metadata": {},
   "outputs": [],
   "source": []
  },
  {
   "cell_type": "markdown",
   "metadata": {},
   "source": [
    "#### Task 16\n",
    "##### Customize the following graphs and view the plots as mentioned below:\n"
   ]
  },
  {
   "cell_type": "markdown",
   "metadata": {},
   "source": [
    "- Histogram of variable `'Oldpeak'` and color `lightcoral` \n",
    "- Above bar chart  using color `thistle` using the `plt.figsize()` to set the width as `20` and the height as `15`.\n",
    "- Above scatterplot of `'Oldpeak'` on the x-axis and `'RestingBP'` on the y-axis using color `firebrick`\n"
   ]
  },
  {
   "cell_type": "markdown",
   "metadata": {},
   "source": [
    "#### Result:\n"
   ]
  },
  {
   "cell_type": "code",
   "execution_count": null,
   "metadata": {},
   "outputs": [],
   "source": []
  },
  {
   "cell_type": "markdown",
   "metadata": {},
   "source": [
    "#### Task 17\n",
    "##### Create a color dictionary called `ex_color_dict` corresponding with `'FastingBS'`:\n",
    "##### - '0' corresponding to color `darkorange`\n",
    "##### - '1' corresponding to color `skyblue`\n",
    "##### Set the color as `ex_color_dict` and create a scatterplot with the same parameters `'Oldpeak'` and `'RestingBP'`.\n",
    "##### Then, change the opacity using `alpha` to 0.6.\n",
    "#### Result:\n"
   ]
  },
  {
   "cell_type": "code",
   "execution_count": null,
   "metadata": {},
   "outputs": [],
   "source": []
  },
  {
   "cell_type": "markdown",
   "metadata": {},
   "source": [
    "#### Task 18\n",
    "##### Print the available pre-defined styles provided by `matplotlib`.\n",
    "##### Set the style to ` seaborn-darkgrid` .\n",
    "##### Construct the scatterplot above.\n",
    "##### Run the scatterplot again, this time setting the labels using `.rcParams` as:\n",
    "##### - label size as 20\n",
    "##### - label color as red\n",
    "##### - figure title size as 15\n",
    "##### Reset the `rcParams` to default.\n"
   ]
  },
  {
   "cell_type": "markdown",
   "metadata": {},
   "source": [
    "#### Result:\n"
   ]
  },
  {
   "cell_type": "code",
   "execution_count": null,
   "metadata": {},
   "outputs": [],
   "source": []
  },
  {
   "cell_type": "markdown",
   "metadata": {},
   "source": [
    "#### Please refer to module 3 of Intro to visualization in python - Static Plots for Tasks 19-24\n",
    "#### Task 19\n",
    "##### Create a simple violin plot of `percent_dependent` and show the results.\n",
    "#### Result:\n"
   ]
  },
  {
   "cell_type": "code",
   "execution_count": null,
   "metadata": {},
   "outputs": [],
   "source": []
  },
  {
   "cell_type": "markdown",
   "metadata": {},
   "source": [
    "#### Task 20\n",
    "##### Now try to create the same violin plot by changing its orientation to horizontal.\n",
    "##### Also label the x-axis and title accordingly.\n"
   ]
  },
  {
   "cell_type": "markdown",
   "metadata": {},
   "source": [
    "#### Result:\n"
   ]
  },
  {
   "cell_type": "code",
   "execution_count": null,
   "metadata": {},
   "outputs": [],
   "source": []
  },
  {
   "cell_type": "markdown",
   "metadata": {},
   "source": [
    "#### Task 21\n",
    "##### Use the `plt.subplots()` function and `ex_df_subset` data to create a 2x2 subplot of the following histogram, boxplot, scatterplot, and barplot:\n"
   ]
  },
  {
   "cell_type": "markdown",
   "metadata": {},
   "source": [
    "- Histogram: Create a histogram on `'Oldpeak'` and change face color to `lightcoral`\n",
    "- Boxplot: Create a box plot on `'Oldpeak'`\n",
    "- Scatter plot: Create a scatterplot with the parameters `'Oldpeak'` and `'RestingBP'`.\n",
    "  - Set the scatterplot specifications similar to Task 14.\n",
    "- Bar chart:\n",
    "  - Create a bar chart with the same specifications as Task 10 and set the color to `thistle`\n",
    "\n"
   ]
  },
  {
   "cell_type": "markdown",
   "metadata": {},
   "source": [
    "##### Hint: If the output does not render, then try to run the code in a single cell.\n"
   ]
  },
  {
   "cell_type": "markdown",
   "metadata": {},
   "source": [
    "#### Result:\n"
   ]
  },
  {
   "cell_type": "code",
   "execution_count": null,
   "metadata": {},
   "outputs": [],
   "source": []
  },
  {
   "cell_type": "markdown",
   "metadata": {},
   "source": [
    "#### Task 22\n",
    "##### Create the above plot by labeling the axes of each of the four plots using `.set_xlabel()` and `.set_ylabel()`.\n",
    "##### Set the ticks for the bar chart using `.set_ticks()`.\n",
    "##### Also set the labels for ticks using `.set_ticklabels()` making sure the labels are rotated to a vertical position ( set `rotation`= 90 ).\n",
    "##### Set the default parameters as:\n"
   ]
  },
  {
   "cell_type": "markdown",
   "metadata": {},
   "source": [
    "- axes label size as 10\n",
    "- title size as 25\n",
    "- size inches as 18 and 7.7\n",
    "- Title as `Exercise Data Summary`\n",
    "\n"
   ]
  },
  {
   "cell_type": "markdown",
   "metadata": {},
   "source": [
    "##### Run the code in a single cell if the plot doesn't show.\n"
   ]
  },
  {
   "cell_type": "markdown",
   "metadata": {},
   "source": [
    "#### Result:\n"
   ]
  },
  {
   "cell_type": "code",
   "execution_count": null,
   "metadata": {},
   "outputs": [],
   "source": []
  },
  {
   "cell_type": "markdown",
   "metadata": {},
   "source": [
    "#### Task 23\n",
    "##### Let's create a multiple layered scatterplot using the `plt.subplots()` function.\n",
    "##### Define the `key` and `value` for the color dictionary `ex_color_dict`. \n",
    "##### Set the 'FastingBS' as `Category 1` and `Category 2` for the different categories present in it respectively.\n",
    "##### View the plot.\n",
    "##### Hint: It's always better to clear the plotting area before rendering a new plot by using `plt.clf()`.\n"
   ]
  },
  {
   "cell_type": "markdown",
   "metadata": {},
   "source": [
    "#### Result:\n"
   ]
  },
  {
   "cell_type": "code",
   "execution_count": null,
   "metadata": {},
   "outputs": [],
   "source": []
  },
  {
   "cell_type": "markdown",
   "metadata": {},
   "source": [
    "#### Task 24\n",
    "##### Create a layered bar chart using the variables from the dataset.\n",
    "##### Find the means of the data when 'FastingBS' is '1' and save as `ex_false_means`.\n",
    "##### Find the bar heights for both '0' and '1' levels of 'FastingBS'.\n",
    "##### Also define the other variables `bar_labels`, `num_bars`, `bar_position` and `width` necessary for a bar chart.\n",
    "##### Clear the plotting area for a new plot and use `plt.subplot()` to visualize the bar chart.\n"
   ]
  },
  {
   "cell_type": "markdown",
   "metadata": {},
   "source": [
    "#### Result:\n"
   ]
  },
  {
   "cell_type": "code",
   "execution_count": null,
   "metadata": {},
   "outputs": [],
   "source": []
  }
 ],
 "metadata": {
  "language": "python",
  "language_info": {
   "codemirror_mode": {
    "name": "ipython",
    "version": 3
   },
   "file_extension": ".py",
   "mimetype": "text/x-python",
   "name": "python",
   "nbconvert_exporter": "python",
   "pygments_lexer": "ipython3",
   "version": "3.7.12"
  }
 },
 "nbformat": 4,
 "nbformat_minor": 4
}
