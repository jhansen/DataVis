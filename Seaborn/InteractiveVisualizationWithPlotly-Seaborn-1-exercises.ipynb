{
 "cells": [
  {
   "cell_type": "markdown",
   "id": "30da6a8a",
   "metadata": {},
   "source": [
    "## INTERACTIVEVISUALIZATIONWITHPLOTLY/SEABORN/INTERACTIVEVISUALIZATIONWITHPLOTLY SEABORN 1 EXERCISE  ##\n",
    "#### Please refer to module 1 of InteractiveVisualizationWithPlotly - Seaborn for Tasks 1-10\n",
    "#### Task 1\n",
    "##### Load seaborn as sns and matplotlib.pyplot as plt for plotting data.\n",
    "##### Load in the dataset `tips` from the sns repository and save it to the variable tips.\n",
    "#### Result:\n"
   ]
  },
  {
   "cell_type": "code",
   "execution_count": null,
   "id": "2852ba69",
   "metadata": {},
   "outputs": [],
   "source": []
  },
  {
   "cell_type": "markdown",
   "id": "89b8bea2",
   "metadata": {},
   "source": [
    "#### Task 2\n",
    "##### View the top 10 rows of `tips`.  \n",
    "#### Result:\n"
   ]
  },
  {
   "cell_type": "code",
   "execution_count": null,
   "id": "f15ae577",
   "metadata": {},
   "outputs": [],
   "source": []
  },
  {
   "cell_type": "markdown",
   "id": "20bd9ec9",
   "metadata": {},
   "source": [
    "#### Task 3\n",
    "##### Create a histogram of the column `tip`.\n",
    "##### Create a layered histogram of `tip` by `smoker`\n",
    "#### Result:\n"
   ]
  },
  {
   "cell_type": "code",
   "execution_count": null,
   "id": "03936163",
   "metadata": {},
   "outputs": [],
   "source": []
  },
  {
   "cell_type": "markdown",
   "id": "100cff99",
   "metadata": {},
   "source": [
    "#### Task 4\n",
    "##### Create a boxplot of `total_bill`.\n",
    "##### Create a second boxplot of `total_bill` grouped by `day`.\n",
    "#### Result:\n"
   ]
  },
  {
   "cell_type": "code",
   "execution_count": null,
   "id": "c2f85c9d",
   "metadata": {},
   "outputs": [],
   "source": []
  },
  {
   "cell_type": "markdown",
   "id": "eb04b912",
   "metadata": {},
   "source": [
    "#### Task 5\n",
    "##### Create a bar plot of `tips` grouped by `day`.\n",
    "##### Create a second bar plot of `tips` grouped by `day` and `time`.\n",
    "##### Both plots should display the confidence interval based on the standard deviation.\n",
    "#### Result:\n"
   ]
  },
  {
   "cell_type": "code",
   "execution_count": null,
   "id": "924a7171",
   "metadata": {},
   "outputs": [],
   "source": []
  },
  {
   "cell_type": "markdown",
   "id": "bb7331b1",
   "metadata": {},
   "source": [
    "#### Task 6\n",
    "##### Create a scatterplot of `tips` versus `total_bill`.\n",
    "#### Result:\n"
   ]
  },
  {
   "cell_type": "code",
   "execution_count": null,
   "id": "d77f578a",
   "metadata": {},
   "outputs": [],
   "source": []
  },
  {
   "cell_type": "markdown",
   "id": "12782115",
   "metadata": {},
   "source": [
    "#### Task 7\n",
    "##### Create a linear model plot of `tips` versus `total_bill`.\n",
    "#### Result:\n"
   ]
  },
  {
   "cell_type": "code",
   "execution_count": null,
   "id": "789cb320",
   "metadata": {},
   "outputs": [],
   "source": []
  },
  {
   "cell_type": "markdown",
   "id": "b792db16",
   "metadata": {},
   "source": [
    "#### Task 8\n",
    "##### Create a residual plot of `tips` versus `total_bill`.\n",
    "##### Does the linear model seem like a good model for this data?\n",
    "#### Result:\n"
   ]
  },
  {
   "cell_type": "code",
   "execution_count": null,
   "id": "9957a1b5",
   "metadata": {},
   "outputs": [],
   "source": []
  },
  {
   "cell_type": "markdown",
   "id": "a44c59dd",
   "metadata": {},
   "source": [
    "#### Task 9\n",
    "##### Create a heatmap of `total_bill` by day and time using the below code to make a pivot table.\n"
   ]
  },
  {
   "cell_type": "code",
   "execution_count": null,
   "id": "789ea1bd",
   "metadata": {},
   "outputs": [],
   "source": [
    "tips2 = tips.groupby(['day', 'time']).mean()[['total_bill']]\n",
    "tips2.reset_index(inplace = True)\n",
    "tips2 = tips2.pivot('day', 'time', 'total_bill')`\n"
   ]
  },
  {
   "cell_type": "markdown",
   "id": "afd3853f",
   "metadata": {},
   "source": [
    "##### Use tips2 to create a heatmap.\n",
    "#### Result:\n"
   ]
  },
  {
   "cell_type": "code",
   "execution_count": null,
   "id": "925cbb68",
   "metadata": {},
   "outputs": [],
   "source": []
  },
  {
   "cell_type": "markdown",
   "id": "1cd281ca",
   "metadata": {},
   "source": [
    "#### Task 10\n",
    "##### Use the code from Task 4 for the second boxplot and change the xlabel to `Days of the Week` and the ylabel to `Total Bill ($)` and the title to `Distributions of restaurant bills over the week`\n",
    "#### Result:\n"
   ]
  },
  {
   "cell_type": "code",
   "execution_count": null,
   "id": "11e873ed",
   "metadata": {},
   "outputs": [],
   "source": []
  }
 ],
 "metadata": {
  "language": "python"
 },
 "nbformat": 4,
 "nbformat_minor": 5
}
