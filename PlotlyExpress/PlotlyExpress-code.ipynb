{
 "cells": [
  {
   "cell_type": "code",
   "execution_count": null,
   "id": "8178d15e",
   "metadata": {},
   "outputs": [],
   "source": [
    "#######################################################\n",
    "#######################################################\n",
    "############    COPYRIGHT - DATA SOCIETY   ############\n",
    "#######################################################\n",
    "#######################################################\n",
    "\n",
    "## INTERACTIVEVISUALIZATIONWITHPLOTLY/PLOTLYEXPRESS/INTERACTIVEVISUALIZATIONWITHPLOTLY PLOTLYEXPRESS 1 ##\n",
    "\n",
    "## NOTE: To run individual pieces of code, select the line of code and\n",
    "##       press ctrl + enter for PCs or command + enter for Macs\n",
    "\n",
    "\n"
   ]
  },
  {
   "cell_type": "code",
   "execution_count": null,
   "id": "1f28b7ef",
   "metadata": {},
   "outputs": [],
   "source": [
    "#=================================================-\n",
    "#### Slide 6: Load the dataset and libraries  ####\n",
    "\n",
    "# Load the libraries and the dataset \n",
    "import plotly.express as px\n",
    "\n",
    "# Load the dataset\n",
    "tips_dataset = px.data.tips()  \n",
    "# Top 5 entires of the dataset\n",
    "tips_dataset.head()\n",
    "\n",
    "\n",
    "#######################################################\n",
    "####  CONGRATULATIONS ON COMPLETING THIS MODULE!   ####\n",
    "#######################################################\n"
   ]
  },
  {
   "cell_type": "code",
   "execution_count": null,
   "id": "4d210a87",
   "metadata": {},
   "outputs": [],
   "source": [
    "#######################################################\n",
    "#######################################################\n",
    "############    COPYRIGHT - DATA SOCIETY   ############\n",
    "#######################################################\n",
    "#######################################################\n",
    "\n",
    "## INTERACTIVEVISUALIZATIONWITHPLOTLY/PLOTLYEXPRESS/INTERACTIVEVISUALIZATIONWITHPLOTLY PLOTLYEXPRESS 2 ##\n",
    "\n",
    "## NOTE: To run individual pieces of code, select the line of code and\n",
    "##       press ctrl + enter for PCs or command + enter for Macs\n",
    "\n",
    "\n"
   ]
  },
  {
   "cell_type": "code",
   "execution_count": null,
   "id": "dd74bf5f",
   "metadata": {},
   "outputs": [],
   "source": [
    "#=================================================-\n",
    "#### Slide 4: Load the data  ####\n",
    "\n",
    "# Load the iris dataset from `plotly express`\n",
    "iris_dataset = px.data.iris()\n",
    "\n",
    "# Top 5 entries of the dataset\n",
    "iris_dataset.head()\n",
    "\n",
    "\n",
    "#######################################################\n",
    "####  CONGRATULATIONS ON COMPLETING THIS MODULE!   ####\n",
    "#######################################################\n"
   ]
  },
  {
   "cell_type": "code",
   "execution_count": null,
   "id": "dc0ca734",
   "metadata": {},
   "outputs": [],
   "source": [
    "#######################################################\n",
    "#######################################################\n",
    "############    COPYRIGHT - DATA SOCIETY   ############\n",
    "#######################################################\n",
    "#######################################################\n",
    "\n",
    "## INTERACTIVEVISUALIZATIONWITHPLOTLY/PLOTLYEXPRESS/INTERACTIVEVISUALIZATIONWITHPLOTLY PLOTLYEXPRESS 3 ##\n",
    "\n",
    "## NOTE: To run individual pieces of code, select the line of code and\n",
    "##       press ctrl + enter for PCs or command + enter for Macs\n",
    "\n",
    "\n"
   ]
  },
  {
   "cell_type": "code",
   "execution_count": null,
   "id": "18edc9db",
   "metadata": {},
   "outputs": [],
   "source": [
    "#=================================================-\n",
    "#### Slide 12: Downloading a custom GeoJSON to make a map (cont'd)  ####\n",
    "\n",
    "election_dataset = px.data.election()\n",
    "\n",
    "geojson = px.data.election_geojson()\n",
    "\n",
    "fig = px.choropleth(election_dataset, \n",
    "          geojson=geojson,color=\"Bergeron\",\n",
    "          locations=\"district\",\n",
    "          featureidkey=\"properties.district\",\n",
    "          projection=\"mercator\")\n",
    "          \n",
    "fig.update_geos(fitbounds=\"locations\", \n",
    "          visible=False)\n",
    "          \n",
    "fig.update_layout(margin={\"r\":0,\"t\":0,\"l\":0,\"b\":0})\n",
    "\n",
    "fig.show()\n",
    "\n",
    "\n"
   ]
  },
  {
   "cell_type": "code",
   "execution_count": null,
   "id": "5fb983d2",
   "metadata": {},
   "outputs": [],
   "source": [
    "#=================================================-\n",
    "#### Slide 14: Animation of a scatter map   ####\n",
    "\n",
    "gapminder_dataset = px.data.gapminder() \n",
    "fig = px.scatter_geo(gapminder_dataset, locations=\"iso_alpha\", \n",
    "          color=\"continent\", \n",
    "          hover_name=\"country\",\n",
    "          size=\"pop\",\n",
    "          animation_frame=\"year\", \n",
    "          projection=\"natural earth\")\n",
    "fig.show()\n",
    "\n",
    "\n"
   ]
  },
  {
   "cell_type": "code",
   "execution_count": null,
   "id": "06964091",
   "metadata": {},
   "outputs": [],
   "source": [
    "#=================================================-\n",
    "#### Slide 15: Animation of a heat map   ####\n",
    "\n",
    "fig = px.choropleth(gapminder_dataset, \n",
    "          locations=\"iso_alpha\",         \n",
    "          color=\"lifeExp\", \n",
    "          hover_name=\"country\",     \n",
    "          animation_frame=\"year\", \n",
    "          range_color=[20,80])          \n",
    "fig.show()\n",
    "\n",
    "\n"
   ]
  },
  {
   "cell_type": "code",
   "execution_count": null,
   "id": "2dacafdc",
   "metadata": {},
   "outputs": [],
   "source": [
    "#=================================================-\n",
    "#### Slide 17: Exercise   ####\n",
    "\n",
    "\n",
    "\n",
    "\n",
    "#######################################################\n",
    "####  CONGRATULATIONS ON COMPLETING THIS MODULE!   ####\n",
    "#######################################################\n"
   ]
  }
 ],
 "metadata": {
  "language": "python"
 },
 "nbformat": 4,
 "nbformat_minor": 5
}
