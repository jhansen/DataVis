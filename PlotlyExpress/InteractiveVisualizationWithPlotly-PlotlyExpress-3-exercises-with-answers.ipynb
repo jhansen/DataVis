{
 "cells": [
  {
   "cell_type": "markdown",
   "id": "2b283217",
   "metadata": {},
   "source": [
    "## INTERACTIVEVISUALIZATIONWITHPLOTLY/PLOTLYEXPRESS/INTERACTIVEVISUALIZATIONWITHPLOTLY PLOTLYEXPRESS 3 EXERCISE ANSWERS ##\n",
    "#### Please refer to module 1 of InteractiveVisualizationWithPlotly - PlotlyExpress for Tasks 1-3\n",
    "#### Task 1\n",
    "##### Import the Plotly Express library as px.\n",
    "##### Use the Plotly Express library to pull in the dataset `iris` and save it as iris_df.\n",
    "#### Result:\n"
   ]
  },
  {
   "cell_type": "code",
   "execution_count": null,
   "id": "08dd8093",
   "metadata": {},
   "outputs": [],
   "source": [
    "import plotly.express as px\n",
    "iris_df = px.data.iris()\n"
   ]
  },
  {
   "cell_type": "markdown",
   "id": "1e6f39bc",
   "metadata": {},
   "source": [
    "#### Task 2 \n",
    "##### Create a histogram of petal_length colored by species. \n",
    "##### Add a title, choose a number of bins, and change the axes labels, and the color palette as you see fit.\n",
    "#### Result:\n"
   ]
  },
  {
   "cell_type": "code",
   "execution_count": null,
   "id": "207b746a",
   "metadata": {},
   "outputs": [],
   "source": [
    "fig=px.histogram(iris_df, \n",
    "          x = 'petal_length', \n",
    "          color = 'species', \n",
    "          title = 'Petal Length by Species', \n",
    "          labels = {'petal_length':'Petal Length'}, \n",
    "          color_discrete_sequence=px.colors.sequential.Aggrnyl, \n",
    "          nbins = 40)\n",
    "fig.show()\n"
   ]
  },
  {
   "cell_type": "markdown",
   "id": "04a7db59",
   "metadata": {},
   "source": [
    "#### Task 3 \n",
    "##### Create a box plot of `sepal_length` colored by species.  \n",
    "##### Add a title, change axes labels, and the color palette as you see fit.\n",
    "#### Result:\n"
   ]
  },
  {
   "cell_type": "code",
   "execution_count": null,
   "id": "2492039f",
   "metadata": {},
   "outputs": [],
   "source": [
    "fig=px.box(diris_df, \n",
    "          x = 'sepal_length', \n",
    "          color = 'species', \n",
    "          title = 'Sepal Length by Species', \n",
    "          labels = {'sepal_length', \"Sepal Length\"},\n",
    "          color_discrete_sequence = px.colors.sequential.Blackbody)\n",
    "fig.show()\n"
   ]
  },
  {
   "cell_type": "markdown",
   "id": "5b2c7dbf",
   "metadata": {},
   "source": [
    "#### Please refer to module 2 of InteractiveVisualizationWithPlotly - PlotlyExpress for Tasks 4-8\n",
    "#### Task 4\n",
    "##### Load the dataset `experiment` from Plotly Express and save it as `exps_df`.\n",
    "##### Load the dataset `stocks` from `plotly express` as stocks_df.\n",
    "#### Result:\n"
   ]
  },
  {
   "cell_type": "code",
   "execution_count": null,
   "id": "df41f68d",
   "metadata": {},
   "outputs": [],
   "source": [
    "exps_df = px.data.experiment()\n",
    "stocks_df = px.data.stocks()\n"
   ]
  },
  {
   "cell_type": "markdown",
   "id": "73c80694",
   "metadata": {},
   "source": [
    "#### Task 5\n",
    "##### Create a scatter plot using exps, plot experiment_1 versus experiment_2, coloring by group. \n",
    "#### Result:\n"
   ]
  },
  {
   "cell_type": "code",
   "execution_count": null,
   "id": "307cda52",
   "metadata": {},
   "outputs": [],
   "source": [
    "fig = px.scatter(exps_df, \n",
    "          x = 'experiment_1', \n",
    "          y = 'experiment_2', \n",
    "          color = 'group')\n",
    "fig.show()\n"
   ]
  },
  {
   "cell_type": "markdown",
   "id": "d6accf2e",
   "metadata": {},
   "source": [
    "#### Task 6\n",
    "##### Use the code from Task 2 and create a linear regression by group.  \n",
    "##### Show the model summary for your group of choice.  \n",
    "##### Is this a good model?\n",
    "#### Result:\n"
   ]
  },
  {
   "cell_type": "code",
   "execution_count": null,
   "id": "e5df3ff0",
   "metadata": {},
   "outputs": [],
   "source": [
    "fig = px.scatter(exps_df, \n",
    "          x = 'experiment_1', \n",
    "          y = 'experiment_2', \n",
    "          color = 'group', \n",
    "          trendline = 'ols')\n",
    "fig.show()\n",
    "results = px.get_trendline_results(fig)\n",
    "results.query(\"group=='treatment'\").px_fit_results.iloc[0].summary()\n"
   ]
  },
  {
   "cell_type": "markdown",
   "id": "5a80ae8d",
   "metadata": {},
   "source": [
    "#### Task 7\n",
    "##### Create a line plot using the stocksdf.  \n",
    "##### Use pandas and melt to make the data long for plotting all the stocks on the same plot, use the code below:\n"
   ]
  },
  {
   "cell_type": "code",
   "execution_count": null,
   "id": "e4c0e259",
   "metadata": {},
   "outputs": [],
   "source": [
    "import pandas as pd\n",
    "stocksdf_long = pd.melt(stocks_df, id_vars='date', value_name='Value', var_name='Stock')\n"
   ]
  },
  {
   "cell_type": "markdown",
   "id": "4d9e68c7",
   "metadata": {},
   "source": [
    "##### Plot each line colored by Stock.\n",
    "#### Result:\n"
   ]
  },
  {
   "cell_type": "code",
   "execution_count": null,
   "id": "1f867e7d",
   "metadata": {},
   "outputs": [],
   "source": [
    "fig = px.line(stocksdf_long, \n",
    "          x = 'date', \n",
    "          y = 'Value', \n",
    "          color = 'Stock')\n",
    "fig.show()\n"
   ]
  },
  {
   "cell_type": "markdown",
   "id": "0645861c",
   "metadata": {},
   "source": [
    "#### Task 8\n",
    "##### Create a Scatter Matrix using the expsdf data.\n",
    "##### Save the figure as an html file.\n",
    "#### Result: \n"
   ]
  },
  {
   "cell_type": "code",
   "execution_count": null,
   "id": "71d92763",
   "metadata": {},
   "outputs": [],
   "source": [
    "fig = px.scatter_matrix(expsdf, \n",
    "          dimensions = ['experiment_1','experiment_2', 'experiment_3'])\n",
    "fig.show()\n",
    "fig.write_html('expscattermatrix.html')\n"
   ]
  },
  {
   "cell_type": "markdown",
   "id": "a4511899",
   "metadata": {},
   "source": [
    "#### Please refer to module 3 of InteractiveVisualizationWithPlotly - PlotlyExpress for Tasks 9-14\n",
    "#### Task 9\n",
    "##### Use the Plotly Express library to pull in the dataset `election` and save it as `el_df`.\n",
    "##### Load in `gapminder` from Plotly Express and save as `gap_df`.\n",
    "##### Load in `experiment` from Plotly Express and save as `exp_df`.\n",
    "#### Result:\n"
   ]
  },
  {
   "cell_type": "code",
   "execution_count": null,
   "id": "5cc22440",
   "metadata": {},
   "outputs": [],
   "source": [
    "el_df = px.data.election()\n",
    "gap_df = px.data.gapminder()\n",
    "exp_df= px.data.experiment()\n"
   ]
  },
  {
   "cell_type": "markdown",
   "id": "37276c87",
   "metadata": {},
   "source": [
    "#### Task 10\n",
    "##### Create a correlation plot using a subset of exp_df which includes the columns `experiment_1`, `experiment_2`, and  `experiment_3`. \n",
    "##### Which of these are correlated?\n",
    "#### Result:\n"
   ]
  },
  {
   "cell_type": "code",
   "execution_count": null,
   "id": "2d0e49b7",
   "metadata": {},
   "outputs": [],
   "source": [
    "expdf_subset = expdf[['experiment_1', 'experiment_2', 'experiment_3']].corr()\n",
    "fig = px.imshow(expdf_subset, \n",
    "          zmin = -1, \n",
    "          zmax = 1)\n",
    "fig.show()\n"
   ]
  },
  {
   "cell_type": "markdown",
   "id": "cc7e287d",
   "metadata": {},
   "source": [
    "#### Task 11\n",
    "##### Create a density heatmap of `experiment_1` and `experiment_3`.  \n",
    "##### Would both of these contribute to a model?\n",
    "#### Result:\n"
   ]
  },
  {
   "cell_type": "code",
   "execution_count": null,
   "id": "d0fb9198",
   "metadata": {},
   "outputs": [],
   "source": [
    "fig = px.density_heatmap(exp_df, \n",
    "            x = 'experiment_1', \n",
    "            y = 'experiment_2')\n",
    "fig.show()\n"
   ]
  },
  {
   "cell_type": "markdown",
   "id": "255f95a8",
   "metadata": {},
   "source": [
    "#### Task 12\n",
    "##### Use gapdf and create a choropleth map of `gdpPercap` in year 1982 for the world. \n",
    "#### Result:\n"
   ]
  },
  {
   "cell_type": "code",
   "execution_count": null,
   "id": "91b06767",
   "metadata": {},
   "outputs": [],
   "source": [
    "gapdf2 = gapdf.query(\"year==1982\")\n",
    "fig = px.choropleth(gapdf2, \n",
    "          locations = \"iso_alpha\",\n",
    "          color = \"gdpPercap\", \n",
    "          hover_name = \"country\", \n",
    "          color_continuous_scale = px.colors.sequential.Plasma)\n",
    "fig.show()\n"
   ]
  },
  {
   "cell_type": "markdown",
   "id": "5d32b5ef",
   "metadata": {},
   "source": [
    "#### Task 13\n",
    "##### Use `el_df` and load in the geoJSON that goes with it to make a map of the votes for Coderre.\n",
    "#### Result: \n"
   ]
  },
  {
   "cell_type": "code",
   "execution_count": null,
   "id": "b0933e42",
   "metadata": {},
   "outputs": [],
   "source": [
    "geojson = px.data.election_geojson()\n",
    "fig = px.choropleth(el_df, \n",
    "          geojson = geojson, \n",
    "          color = \"Coderre\",\n",
    "          locations = \"district\", \n",
    "          featureidkey = \"properties.district\",\n",
    "          projection = \"mercator\")\n",
    "          \n",
    "fig.update_geos(fitbounds = \"locations\", \n",
    "          visible = False)\n",
    "          \n",
    "fig.update_layout(margin = {\"r\":0,\"t\":0,\"l\":0,\"b\":0})\n",
    "fig.show()\n"
   ]
  },
  {
   "cell_type": "markdown",
   "id": "ede23273",
   "metadata": {},
   "source": [
    "#### Task 14\n",
    "##### Use `gapdf` to create an animation of `gdpPercap` over the world by using year as the `animation_frame`.\n",
    "#### Result:\n"
   ]
  },
  {
   "cell_type": "code",
   "execution_count": null,
   "id": "6c36f681",
   "metadata": {},
   "outputs": [],
   "source": [
    "fig=px.choropleth(gapdf,\n",
    "          locations = \"iso_alpha\", \n",
    "          color = \"gdpPercap\", \n",
    "          hover_name = \"country\", \n",
    "          animation_frame = \"year\")\n",
    "fig.show()\n"
   ]
  }
 ],
 "metadata": {
  "language": "python"
 },
 "nbformat": 4,
 "nbformat_minor": 5
}
